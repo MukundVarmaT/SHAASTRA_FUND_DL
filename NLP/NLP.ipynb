{
 "cells": [
  {
   "cell_type": "markdown",
   "metadata": {},
   "source": [
    "<h1 align=\"center\">Natural Language Processing</h1>"
   ]
  },
  {
   "cell_type": "markdown",
   "metadata": {},
   "source": [
    "Natural Language Processing or NLP is a branch of Machine Learning focused towards making computers understand the human language in the form of text, speech, etc. \n",
    "\n",
    "## Why is NLP difficult?\n",
    "There are various challenges in NLP. Some of them are:\n",
    "- **Text Preprocessing**: Large amount of textual data when scraped from websites or extracted from documents are not clean and contain a lot of gibberish. Even something as naive as identifying word or sentence boundaries is an important task. \n",
    "- **Building context**: A word gets its meaning from the context of the sentence or the words surrounding it. Many a times, the same word can have different meanings when used at different locations. Even different words can mean the same thing (synonyms). Eg:\n",
    "    - In different sentences -  \"We went to the **bank** to rob\", \"We went fishing at the river **bank**\".\n",
    "    - In the same sentence - \"I **ran** to the store because I **ran** out of milk\". \n",
    "    - Synonyms - \"I have a **tiny** bag\", \"I have a **small** bag\"\n",
    "- **Complexity**: Human language is very complex and diverse. There are different languages, different ways in which people talk, write, spell, etc making it more and more challenging. Building a large text corpus with all these variabilities is difficult and infeasible.\n",
    "- **Word representation**: Representing words in a form understandable by machines is a very difficult task. "
   ]
  },
  {
   "cell_type": "markdown",
   "metadata": {},
   "source": [
    "## Tokenization\n",
    "\n",
    "Every large piece of text can be broken down into sentences, words, characters, etc. This process of breaking down in called as tokenization. There are different forms of tokenization - word tokenization, sentence tokenization, etc. "
   ]
  },
  {
   "cell_type": "code",
   "execution_count": 1,
   "metadata": {},
   "outputs": [
    {
     "name": "stdout",
     "output_type": "stream",
     "text": [
      "['Wow', 'this', 'is', 'great', '!', 'Natural', 'Language', 'Processing', 'is', 'indeed', 'fun', '.']\n",
      "['Wow this is great!', 'Natural Language Processing is indeed fun.']\n"
     ]
    },
    {
     "name": "stderr",
     "output_type": "stream",
     "text": [
      "[nltk_data] Downloading package punkt to\n",
      "[nltk_data]     /home/sneezygiraffe/nltk_data...\n",
      "[nltk_data]   Package punkt is already up-to-date!\n"
     ]
    }
   ],
   "source": [
    "text = \"Wow this is great! Natural Language Processing is indeed fun.\"\n",
    "\n",
    "# this is quite a naive task and can be done using the split method. \n",
    "# However, to make thing simpler, we will be using nltk library\n",
    "import nltk\n",
    "# tokenization is done by splitting on punctuations, etc. Hence we need to download \"punkt\"\n",
    "nltk.download(\"punkt\")\n",
    "from nltk.tokenize import word_tokenize, sent_tokenize\n",
    "\n",
    "# word tokenization\n",
    "print(word_tokenize(text))\n",
    "# sentence tokenization\n",
    "print(sent_tokenize(text))"
   ]
  },
  {
   "cell_type": "markdown",
   "metadata": {},
   "source": [
    "While sentences are a strong way of representing text, they can be further broken down into words. In NLP, we mostly deal with words and how they can be represented.\n",
    "\n",
    "Lets take three sentences.\n",
    "Sentence 1: \"This movie is very scary and long\"\n",
    "Sentence 2: \"This movie is not scary and is slow\"\n",
    "Sentence 3: \"This movie is spooky and good\"\n",
    "\n",
    "Hence the vocabulary in this case would be: ‘This’, ‘movie’, ‘is’, ‘very’, ‘scary’, ‘and’, ‘long’, ‘not’, ‘slow’, ‘spooky’, ‘good’.\n",
    "\n",
    "## Bag of Words\n",
    "The idea behind BOW is that every word is replaced with its count in the particular sentence. \n",
    "\n",
    "|Sentence|This|movie|is|very|scary|and|long|not|slow|spooky|good|\n",
    "|---|---|---|---|---|---|---|---|---|---|---|---|\n",
    "|1|1|1|1|1|1|1|1|0|0|0|0|\n",
    "|2|1|1|2|0|0|1|1|0|1|0|0|\n",
    "|3|1|1|1|0|0|0|1|0|0|1|1|\n",
    "\n",
    "**Disadvantages**\n",
    "- More words implies a larger vocabulary, making the vector large and sparse. \n",
    "- In sentence 2, it can be noticed that \"is\" is given a weight 2 but does not convey much to the context of the sentence.\n",
    "\n",
    "## TF-IDF\n",
    "Lets break it down\n",
    "\n",
    "**Term Frequency (TF)**: measure of how frequenty a word t appears in document d.\n",
    "![](assets/TF.jpg)\n",
    "**Inverse Document Frequency (IDF)**: measure of how important a term is. \n",
    "![](assets/IDF.jpg)\n",
    "\n",
    "|Sentence|This|movie|is|very|scary|and|long|not|slow|spooky|good|\n",
    "|---|---|---|---|---|---|---|---|---|---|---|---|\n",
    "|1|0|0|0|0.068|0.025|0|0.068|0|0|0|0|\n",
    "|2|0|0|0|0|0.022|0|0|0.06|0.06|0|0|\n",
    "|3|0|0|0|0|0|0|0|0|0|0.08|0.08|\n",
    "\n",
    "**To conclude the TF-IDF values are higher if, the word is rare in all documents combined but frequent in a single document.**"
   ]
  },
  {
   "cell_type": "markdown",
   "metadata": {},
   "source": [
    "## Stemming and Lemmatisation\n",
    "\n",
    "Words like \"children\" & \"child\", \"cars\" & \"car\" convey the same meaning. Hence retaining them individually only makes the vectors more sparse and large. Hence its very important to remove them. \n",
    "\n",
    "Stemming is the method of using predefined rules to transform the word to its stem. Please note that the stem need not be a valid word. \n",
    "Lemmatization on the other hand will always be a valid word because the lemma will belong to a dictionary. "
   ]
  },
  {
   "cell_type": "code",
   "execution_count": 2,
   "metadata": {},
   "outputs": [
    {
     "name": "stderr",
     "output_type": "stream",
     "text": [
      "[nltk_data] Downloading package wordnet to\n",
      "[nltk_data]     /home/sneezygiraffe/nltk_data...\n",
      "[nltk_data]   Package wordnet is already up-to-date!\n"
     ]
    }
   ],
   "source": [
    "import pandas as pd\n",
    "from nltk.stem import PorterStemmer, LancasterStemmer, WordNetLemmatizer\n",
    "nltk.download('wordnet')\n",
    "\n",
    "\n",
    "# Compare stemmer and lemmatizer\n",
    "porter = PorterStemmer()\n",
    "lancaster = LancasterStemmer()\n",
    "lemmatizer = WordNetLemmatizer()\n",
    "\n",
    "def normalize_words(words, pos='v'):\n",
    "    normalized_words = pd.DataFrame(index=words, columns=['Porter', 'Lancaster', 'Lemmatizer'])\n",
    "    for word in words:\n",
    "        normalized_words.loc[word,'Porter'] = porter.stem(word)\n",
    "        normalized_words.loc[word,'Lancaster'] = lancaster.stem(word)\n",
    "        normalized_words.loc[word,'Lemmatizer'] = lemmatizer.lemmatize(word, pos=pos)\n",
    "    return normalized_words"
   ]
  },
  {
   "cell_type": "code",
   "execution_count": 3,
   "metadata": {},
   "outputs": [],
   "source": [
    "# normalize_words(['apples', 'pears', 'tasks', 'children', 'earrings', 'dictionary', 'marriage', 'connections', 'universe', 'university'], pos='n')\n",
    "# normalise_text(['pie', 'globe', 'house', 'knee', 'angle', 'acetone', 'time', 'brownie', 'climate', 'independence'], pos='n')\n",
    "# normalise_text(['wrote', 'thinking', 'remembered', 'relies', 'ate', 'gone', 'won', 'ran', 'swimming', 'mistreated'], pos='v')"
   ]
  },
  {
   "cell_type": "markdown",
   "metadata": {},
   "source": [
    "## N-Grams\n",
    "\n",
    "In all the above cases, each word is considered to be independent. But to build context, its always important to look at the surrounding words.  Hence instead of splitting words individually, they are divided into chunks of words.\n",
    "\n",
    "Sentence: “The cow jumps over the moon”\n",
    "\n",
    "- Bigram: [\"the cow\", \"cow jumps\", \"jumps over\", \"over the\", \"the moon\"]\n",
    "- Trigram: [\"the cow jumps\", \"cow jumps over\", \"jumps over the\", \"over the moon\"]"
   ]
  },
  {
   "cell_type": "code",
   "execution_count": 4,
   "metadata": {},
   "outputs": [
    {
     "name": "stdout",
     "output_type": "stream",
     "text": [
      "[('The', 'cow'), ('cow', 'jumps'), ('jumps', 'over'), ('over', 'the'), ('the', 'moon')]\n",
      "[('The', 'cow', 'jumps'), ('cow', 'jumps', 'over'), ('jumps', 'over', 'the'), ('over', 'the', 'moon')]\n"
     ]
    }
   ],
   "source": [
    "from nltk import ngrams\n",
    "sentence = \"The cow jumps over the moon\"\n",
    "print(list(ngrams(sentence.split(), 2)))\n",
    "print(list(ngrams(sentence.split(), 3)))"
   ]
  },
  {
   "cell_type": "code",
   "execution_count": 5,
   "metadata": {},
   "outputs": [
    {
     "data": {
      "text/html": [
       "<div>\n",
       "<style scoped>\n",
       "    .dataframe tbody tr th:only-of-type {\n",
       "        vertical-align: middle;\n",
       "    }\n",
       "\n",
       "    .dataframe tbody tr th {\n",
       "        vertical-align: top;\n",
       "    }\n",
       "\n",
       "    .dataframe thead th {\n",
       "        text-align: right;\n",
       "    }\n",
       "</style>\n",
       "<table border=\"1\" class=\"dataframe\">\n",
       "  <thead>\n",
       "    <tr style=\"text-align: right;\">\n",
       "      <th></th>\n",
       "      <th>sentence</th>\n",
       "      <th>label</th>\n",
       "      <th>split</th>\n",
       "    </tr>\n",
       "  </thead>\n",
       "  <tbody>\n",
       "    <tr>\n",
       "      <th>0</th>\n",
       "      <td>The Rock is destined to be the 21st Century 's...</td>\n",
       "      <td>1</td>\n",
       "      <td>1</td>\n",
       "    </tr>\n",
       "    <tr>\n",
       "      <th>1</th>\n",
       "      <td>The gorgeously elaborate continuation of `` Th...</td>\n",
       "      <td>1</td>\n",
       "      <td>1</td>\n",
       "    </tr>\n",
       "    <tr>\n",
       "      <th>2</th>\n",
       "      <td>If you sometimes like to go to the movies to h...</td>\n",
       "      <td>1</td>\n",
       "      <td>2</td>\n",
       "    </tr>\n",
       "    <tr>\n",
       "      <th>3</th>\n",
       "      <td>Emerges as something rare , an issue movie tha...</td>\n",
       "      <td>1</td>\n",
       "      <td>2</td>\n",
       "    </tr>\n",
       "    <tr>\n",
       "      <th>4</th>\n",
       "      <td>Offers that rare combination of entertainment ...</td>\n",
       "      <td>1</td>\n",
       "      <td>2</td>\n",
       "    </tr>\n",
       "  </tbody>\n",
       "</table>\n",
       "</div>"
      ],
      "text/plain": [
       "                                            sentence  label  split\n",
       "0  The Rock is destined to be the 21st Century 's...      1      1\n",
       "1  The gorgeously elaborate continuation of `` Th...      1      1\n",
       "2  If you sometimes like to go to the movies to h...      1      2\n",
       "3  Emerges as something rare , an issue movie tha...      1      2\n",
       "4  Offers that rare combination of entertainment ...      1      2"
      ]
     },
     "execution_count": 5,
     "metadata": {},
     "output_type": "execute_result"
    }
   ],
   "source": [
    "import pandas as pd\n",
    "# sst1 dataset from https://nlp.stanford.edu/sentiment/\n",
    "data = pd.read_csv(\"assets/sst_data.csv\")\n",
    "data.head()"
   ]
  },
  {
   "cell_type": "code",
   "execution_count": 6,
   "metadata": {},
   "outputs": [
    {
     "data": {
      "text/html": [
       "<div>\n",
       "<style scoped>\n",
       "    .dataframe tbody tr th:only-of-type {\n",
       "        vertical-align: middle;\n",
       "    }\n",
       "\n",
       "    .dataframe tbody tr th {\n",
       "        vertical-align: top;\n",
       "    }\n",
       "\n",
       "    .dataframe thead th {\n",
       "        text-align: right;\n",
       "    }\n",
       "</style>\n",
       "<table border=\"1\" class=\"dataframe\">\n",
       "  <thead>\n",
       "    <tr style=\"text-align: right;\">\n",
       "      <th></th>\n",
       "      <th>sentence</th>\n",
       "      <th>label</th>\n",
       "      <th>split</th>\n",
       "      <th>sentence_clean</th>\n",
       "    </tr>\n",
       "  </thead>\n",
       "  <tbody>\n",
       "    <tr>\n",
       "      <th>0</th>\n",
       "      <td>The Rock is destined to be the 21st Century 's...</td>\n",
       "      <td>1</td>\n",
       "      <td>1</td>\n",
       "      <td>rock destined 21st century new conan going mak...</td>\n",
       "    </tr>\n",
       "    <tr>\n",
       "      <th>1</th>\n",
       "      <td>The gorgeously elaborate continuation of `` Th...</td>\n",
       "      <td>1</td>\n",
       "      <td>1</td>\n",
       "      <td>gorgeously elaborate continuation lord ring tr...</td>\n",
       "    </tr>\n",
       "    <tr>\n",
       "      <th>2</th>\n",
       "      <td>If you sometimes like to go to the movies to h...</td>\n",
       "      <td>1</td>\n",
       "      <td>2</td>\n",
       "      <td>sometimes like go movie fun wasabi good place ...</td>\n",
       "    </tr>\n",
       "    <tr>\n",
       "      <th>3</th>\n",
       "      <td>Emerges as something rare , an issue movie tha...</td>\n",
       "      <td>1</td>\n",
       "      <td>2</td>\n",
       "      <td>emerges something rare issue movie honest keen...</td>\n",
       "    </tr>\n",
       "    <tr>\n",
       "      <th>4</th>\n",
       "      <td>Offers that rare combination of entertainment ...</td>\n",
       "      <td>1</td>\n",
       "      <td>2</td>\n",
       "      <td>offer rare combination entertainment education</td>\n",
       "    </tr>\n",
       "  </tbody>\n",
       "</table>\n",
       "</div>"
      ],
      "text/plain": [
       "                                            sentence  label  split  \\\n",
       "0  The Rock is destined to be the 21st Century 's...      1      1   \n",
       "1  The gorgeously elaborate continuation of `` Th...      1      1   \n",
       "2  If you sometimes like to go to the movies to h...      1      2   \n",
       "3  Emerges as something rare , an issue movie tha...      1      2   \n",
       "4  Offers that rare combination of entertainment ...      1      2   \n",
       "\n",
       "                                      sentence_clean  \n",
       "0  rock destined 21st century new conan going mak...  \n",
       "1  gorgeously elaborate continuation lord ring tr...  \n",
       "2  sometimes like go movie fun wasabi good place ...  \n",
       "3  emerges something rare issue movie honest keen...  \n",
       "4     offer rare combination entertainment education  "
      ]
     },
     "execution_count": 6,
     "metadata": {},
     "output_type": "execute_result"
    }
   ],
   "source": [
    "import re\n",
    "\n",
    "# first we need to do some cleaning\n",
    "\n",
    "# take the stopwords\n",
    "stopwords = nltk.corpus.stopwords.words(\"english\")\n",
    "# print(stopwords)\n",
    "\n",
    "lemmatizer = WordNetLemmatizer()\n",
    "def process_text(text):\n",
    "    # make lower case and remove extra spaces\n",
    "    text = str(text).lower()\n",
    "    # remove punctuations\n",
    "    text = re.sub(r'[^\\w\\s]', '', text)\n",
    "    # convert to word tokens\n",
    "    tokens = text.split()\n",
    "    # remove stop words\n",
    "    tokens = [t for t in tokens if t not in stopwords]\n",
    "    # lemmatize\n",
    "    tokens = [lemmatizer.lemmatize(t) for t in tokens]\n",
    "    # convert back to string\n",
    "    text = \" \".join(tokens)\n",
    "    return text\n",
    "\n",
    "data[\"sentence_clean\"] = data[\"sentence\"].apply(lambda x: process_text(x))\n",
    "data.head()"
   ]
  },
  {
   "cell_type": "code",
   "execution_count": 7,
   "metadata": {},
   "outputs": [],
   "source": [
    "# split into train and test\n",
    "data_train, data_test = data[data[\"split\"] == 1], data[data[\"split\"] == 3]\n",
    "# get the labels\n",
    "y_train = data_train[\"label\"].values\n",
    "y_test = data_test[\"label\"].values"
   ]
  },
  {
   "cell_type": "code",
   "execution_count": 8,
   "metadata": {},
   "outputs": [
    {
     "data": {
      "image/png": "[encoded data removed]",
      "text/plain": [
       "<Figure size 432x288 with 1 Axes>"
      ]
     },
     "metadata": {
      "needs_background": "light"
     },
     "output_type": "display_data"
    }
   ],
   "source": [
    "import sklearn\n",
    "\n",
    "# tfidf\n",
    "vectorizer = sklearn.feature_extraction.text.TfidfVectorizer(max_features=10000, ngram_range=(1,2))\n",
    "vectorizer.fit(data_train[\"sentence_clean\"])\n",
    "x_train = vectorizer.transform(data_train[\"sentence_clean\"])\n",
    "x_test = vectorizer.transform(data_test[\"sentence_clean\"])\n",
    "\n",
    "# lets visualize the tfidf vectors\n",
    "import seaborn as sns\n",
    "import matplotlib.pyplot as plt\n",
    "import numpy as np\n",
    "sns.heatmap(x_train.todense()[:,np.random.randint(0, x_train.shape[1], 100)]==0, vmin=0, vmax=1, cbar=False).set_title('TFIDF VIS')\n",
    "plt.show()\n",
    "\n",
    "# see how sparse it is. We can do some minimal feature selection and make it better"
   ]
  },
  {
   "cell_type": "code",
   "execution_count": 9,
   "metadata": {},
   "outputs": [
    {
     "name": "stdout",
     "output_type": "stream",
     "text": [
      "0.7890909090909091\n"
     ]
    }
   ],
   "source": [
    "from sklearn.naive_bayes import MultinomialNB\n",
    "classifier = MultinomialNB()\n",
    "classifier.fit(x_train, y_train)\n",
    "pred_y = classifier.predict(x_test)\n",
    "acc = sklearn.metrics.accuracy_score(y_test, pred_y)\n",
    "print(acc)"
   ]
  },
  {
   "cell_type": "markdown",
   "metadata": {},
   "source": [
    "## Word2Vec\n",
    "\n",
    "As seen before, TF-IDF, BOW, etc do not capture the context of the words, they are sparse and extremely large making it difficult to use. Word2Vec is a class of methods used to derive better word representations. \n",
    "\n",
    "Two commonly used Word2Vec techniques are:\n",
    "- CBOW\n",
    "- SkipGram\n",
    "\n",
    "![](assets/word2vec.png)"
   ]
  },
  {
   "cell_type": "code",
   "execution_count": null,
   "metadata": {},
   "outputs": [],
   "source": [
    "!wget -q --show-progress 'http://nlp.stanford.edu/data/glove.6B.zip' -O 'assets/glove.zip'\n",
    "!unzip -j -q 'assets/glove.zip' 'glove.6B.300d.txt' -d 'assets/'"
   ]
  },
  {
   "cell_type": "code",
   "execution_count": 10,
   "metadata": {},
   "outputs": [
    {
     "data": {
      "text/html": [
       "<div>\n",
       "<style scoped>\n",
       "    .dataframe tbody tr th:only-of-type {\n",
       "        vertical-align: middle;\n",
       "    }\n",
       "\n",
       "    .dataframe tbody tr th {\n",
       "        vertical-align: top;\n",
       "    }\n",
       "\n",
       "    .dataframe thead th {\n",
       "        text-align: right;\n",
       "    }\n",
       "</style>\n",
       "<table border=\"1\" class=\"dataframe\">\n",
       "  <thead>\n",
       "    <tr style=\"text-align: right;\">\n",
       "      <th></th>\n",
       "      <th>sentence</th>\n",
       "      <th>label</th>\n",
       "      <th>split</th>\n",
       "      <th>sentence_clean</th>\n",
       "      <th>sentence_tokens</th>\n",
       "    </tr>\n",
       "  </thead>\n",
       "  <tbody>\n",
       "    <tr>\n",
       "      <th>0</th>\n",
       "      <td>The Rock is destined to be the 21st Century 's...</td>\n",
       "      <td>1</td>\n",
       "      <td>1</td>\n",
       "      <td>rock destined 21st century new conan going mak...</td>\n",
       "      <td>[rock, destined, 21st, century, new, conan, go...</td>\n",
       "    </tr>\n",
       "    <tr>\n",
       "      <th>1</th>\n",
       "      <td>The gorgeously elaborate continuation of `` Th...</td>\n",
       "      <td>1</td>\n",
       "      <td>1</td>\n",
       "      <td>gorgeously elaborate continuation lord ring tr...</td>\n",
       "      <td>[gorgeously, elaborate, continuation, lord, ri...</td>\n",
       "    </tr>\n",
       "    <tr>\n",
       "      <th>2</th>\n",
       "      <td>If you sometimes like to go to the movies to h...</td>\n",
       "      <td>1</td>\n",
       "      <td>2</td>\n",
       "      <td>sometimes like go movie fun wasabi good place ...</td>\n",
       "      <td>[sometimes, like, go, movies, fun, wasabi, goo...</td>\n",
       "    </tr>\n",
       "    <tr>\n",
       "      <th>3</th>\n",
       "      <td>Emerges as something rare , an issue movie tha...</td>\n",
       "      <td>1</td>\n",
       "      <td>2</td>\n",
       "      <td>emerges something rare issue movie honest keen...</td>\n",
       "      <td>[emerges, something, rare, issue, movie, hones...</td>\n",
       "    </tr>\n",
       "    <tr>\n",
       "      <th>4</th>\n",
       "      <td>Offers that rare combination of entertainment ...</td>\n",
       "      <td>1</td>\n",
       "      <td>2</td>\n",
       "      <td>offer rare combination entertainment education</td>\n",
       "      <td>[offers, rare, combination, entertainment, edu...</td>\n",
       "    </tr>\n",
       "  </tbody>\n",
       "</table>\n",
       "</div>"
      ],
      "text/plain": [
       "                                            sentence  label  split  \\\n",
       "0  The Rock is destined to be the 21st Century 's...      1      1   \n",
       "1  The gorgeously elaborate continuation of `` Th...      1      1   \n",
       "2  If you sometimes like to go to the movies to h...      1      2   \n",
       "3  Emerges as something rare , an issue movie tha...      1      2   \n",
       "4  Offers that rare combination of entertainment ...      1      2   \n",
       "\n",
       "                                      sentence_clean  \\\n",
       "0  rock destined 21st century new conan going mak...   \n",
       "1  gorgeously elaborate continuation lord ring tr...   \n",
       "2  sometimes like go movie fun wasabi good place ...   \n",
       "3  emerges something rare issue movie honest keen...   \n",
       "4     offer rare combination entertainment education   \n",
       "\n",
       "                                     sentence_tokens  \n",
       "0  [rock, destined, 21st, century, new, conan, go...  \n",
       "1  [gorgeously, elaborate, continuation, lord, ri...  \n",
       "2  [sometimes, like, go, movies, fun, wasabi, goo...  \n",
       "3  [emerges, something, rare, issue, movie, hones...  \n",
       "4  [offers, rare, combination, entertainment, edu...  "
      ]
     },
     "execution_count": 10,
     "metadata": {},
     "output_type": "execute_result"
    }
   ],
   "source": [
    "# clean again but without lemmatization\n",
    "def process_text(text):\n",
    "    # make lower case and remove extra spaces\n",
    "    text = str(text).lower()\n",
    "    # remove punctuations\n",
    "    text = re.sub(r'[^\\w\\s]', '', text)\n",
    "    # convert to word tokens\n",
    "    tokens = text.split()\n",
    "    # remove stop words\n",
    "    tokens = [t for t in tokens if t not in stopwords]\n",
    "    return tokens\n",
    "\n",
    "data[\"sentence_tokens\"] = data[\"sentence\"].apply(lambda x: process_text(x))\n",
    "data.head()"
   ]
  },
  {
   "cell_type": "code",
   "execution_count": 11,
   "metadata": {},
   "outputs": [
    {
     "name": "stdout",
     "output_type": "stream",
     "text": [
      "vocabulary size: 8296\n"
     ]
    }
   ],
   "source": [
    "from collections import Counter\n",
    "word_freq = Counter()\n",
    "for i in data[\"sentence_tokens\"]:\n",
    "    word_freq.update(i)\n",
    "words = [w for w in word_freq.keys() if word_freq[w] > 1]\n",
    "word_map = {k: v + 1 for v, k in enumerate(words)}  \n",
    "word_map['<unk>'] = len(word_map) + 1\n",
    "word_map['<pad>'] = 0\n",
    "print(\"vocabulary size: {}\".format(len(word_map)))"
   ]
  },
  {
   "cell_type": "code",
   "execution_count": 12,
   "metadata": {},
   "outputs": [
    {
     "name": "stdout",
     "output_type": "stream",
     "text": [
      "Loading embedding...\n",
      "Number of words read:  8015\n",
      "Number of OOV:  281\n"
     ]
    }
   ],
   "source": [
    "import torch\n",
    "\n",
    "vocab = set(word_map.keys())\n",
    "print(\"Loading embedding...\")\n",
    "cnt = 0\n",
    "with open(\"assets/glove.6B.300d.txt\", 'r', encoding='utf-8') as f:\n",
    "    emb_dim = len(f.readline().split(' ')) - 1 \n",
    "\n",
    "embeddings = torch.FloatTensor(len(vocab), emb_dim)\n",
    "bias = np.sqrt(3.0 / embeddings.size(1))\n",
    "torch.nn.init.uniform_(embeddings, -bias, bias)\n",
    "\n",
    "for line in open(\"assets/glove.6B.300d.txt\", 'r', encoding='utf-8'):\n",
    "    line = line.split(' ')\n",
    "    emb_word = line[0]\n",
    "    embedding = list(map(lambda t: float(t), filter(lambda n: n and not n.isspace(), line[1:])))\n",
    "    if emb_word not in vocab:\n",
    "        continue\n",
    "    else:\n",
    "        cnt+=1\n",
    "    embeddings[word_map[emb_word]] = torch.FloatTensor(embedding)\n",
    "\n",
    "print(\"Number of words read: \", cnt)\n",
    "print(\"Number of OOV: \", len(vocab)-cnt)"
   ]
  },
  {
   "cell_type": "code",
   "execution_count": 13,
   "metadata": {},
   "outputs": [
    {
     "name": "stdout",
     "output_type": "stream",
     "text": [
      "warning: Embedding dir exists, did you set global_step for add_embedding()?\n"
     ]
    }
   ],
   "source": [
    "from torch.utils.tensorboard import SummaryWriter\n",
    "import tensorflow as tf\n",
    "import tensorboard as tb\n",
    "tf.io.gfile = tb.compat.tensorflow_stub.io.gfile\n",
    "\n",
    "writer = SummaryWriter(\"emb_vis\")\n",
    "writer.add_embedding(\n",
    "    embeddings,\n",
    "    metadata=vocab\n",
    ")\n",
    "writer.close()"
   ]
  },
  {
   "cell_type": "code",
   "execution_count": 14,
   "metadata": {},
   "outputs": [
    {
     "data": {
      "text/html": [
       "\n",
       "      <iframe id=\"tensorboard-frame-3954d181e4196f84\" width=\"100%\" height=\"800\" frameborder=\"0\">\n",
       "      </iframe>\n",
       "      <script>\n",
       "        (function() {\n",
       "          const frame = document.getElementById(\"tensorboard-frame-3954d181e4196f84\");\n",
       "          const url = new URL(\"/\", window.location);\n",
       "          const port = 6006;\n",
       "          if (port) {\n",
       "            url.port = port;\n",
       "          }\n",
       "          frame.src = url;\n",
       "        })();\n",
       "      </script>\n",
       "    "
      ],
      "text/plain": [
       "<IPython.core.display.HTML object>"
      ]
     },
     "metadata": {},
     "output_type": "display_data"
    }
   ],
   "source": [
    "%load_ext tensorboard\n",
    "%tensorboard --logdir \"emb_vis\""
   ]
  },
  {
   "cell_type": "code",
   "execution_count": 15,
   "metadata": {},
   "outputs": [
    {
     "data": {
      "text/plain": [
       "tensor(0.6896)"
      ]
     },
     "execution_count": 15,
     "metadata": {},
     "output_type": "execute_result"
    }
   ],
   "source": [
    "import torch.nn as nn\n",
    "cos = nn.CosineSimilarity(dim=0, eps=1e-6)\n",
    "interp_embed = embeddings[word_map[\"king\"]] - embeddings[word_map[\"man\"]] + embeddings[word_map[\"woman\"]]\n",
    "cos(interp_embed, embeddings[word_map[\"queen\"]])"
   ]
  },
  {
   "cell_type": "markdown",
   "metadata": {},
   "source": [
    "## Sequential Neural Networks\n",
    "\n",
    "**RNN**\n",
    "\n",
    "Traditional Neural Networks inherently do not remember/recall the previous words before predicting the current word. Hence they are not apt for language understanding as there is an order in the words which provides the context. Recurrent Neural Networks or RNN's address this issue and help retain past information for the current prediction.\n",
    "\n",
    "![](assets/rnn.png)\n",
    "\n",
    "**LSTM**\n",
    "\n",
    "However, RNN's tend to fail when given a large sequence. Hence came LSTM's which can model long-range dependencies. Let's try to understand how?\n",
    "\n",
    "![](assets/lstm-1.png)\n",
    "\n",
    "**Cell state**\n",
    "\n",
    "Something like a conveyor belt carrying information through the entire chain, with minor alterations at every step. These alterations are done using gates (3 to be exact). They help propagate information based on requirement. Every gating layer consists of a sigmoid operation which determines how much information passes through (1-let everything and 0-let nothing through).\n",
    "\n",
    "![](assets/lstm-2.png)\n",
    "\n",
    "**Gates**\n",
    "\n",
    "- Modify existing information\n",
    "![](assets/lstm-3.png)\n",
    "- Add new information from the current state\n",
    "![](assets/lstm-4.png)\n",
    "- Choose what the output is going to be\n",
    "![](assets/lstm-5.png)"
   ]
  },
  {
   "cell_type": "code",
   "execution_count": 16,
   "metadata": {},
   "outputs": [],
   "source": [
    "from torch.autograd import Variable\n",
    "import torch.nn as nn\n",
    "from torch.utils.data import Dataset, DataLoader\n",
    "from torch.nn.utils.rnn import pad_sequence\n",
    "\n",
    "class LSTMCls(nn.Module):\n",
    "    def __init__(self, vocab_size, emb_dim, embedding, hid_dim, n_cls):\n",
    "        super(CLSModel, self).__init__()\n",
    "        self.embedding = nn.Embedding(vocab_size, emb_dim).from_pretrained(embedding, freeze=False)\n",
    "        self.lstm = nn.LSTM(emb_dim, hid_dim, dropout=0.5)\n",
    "        self.fc = nn.Linear(hid_dim, n_cls)\n",
    "        self.hid_dim = hid_dim\n",
    "\n",
    "    def forward(self, x):\n",
    "        x = self.embedding(x).transpose(0,1)\n",
    "        h_0 = Variable(torch.zeros(1, x.shape[1], self.hid_dim).to(x.device))\n",
    "        c_0 = Variable(torch.zeros(1, x.shape[1], self.hid_dim).to(x.device))\n",
    "        _, (x, _) = self.lstm(x, (h_0, c_0))\n",
    "        x = self.fc(x[-1])\n",
    "        x = F.log_softmax(x, dim=-1)\n",
    "        return x\n",
    "\n",
    "class CNNCls(nn.Module):\n",
    "    def __init__(self, vocab_size, emb_dim, embedding, fmaps, strides, dropout_factor, num_classes):\n",
    "        super(CNNCls, self).__init__()\n",
    "        self.embedding = nn.Embedding(vocab_size, emb_dim).from_pretrained(embedding, freeze=False)\n",
    "        conv_layers = [nn.Conv2d(1, fmaps, (stride, emb_dim), padding=(stride-1, 0)) for stride in strides]\n",
    "        self.conv_layers = nn.Sequential(*conv_layers)\n",
    "        self.dropout = nn.Dropout(dropout_factor)\n",
    "        self.fc = nn.Linear(len(conv_layers)*fmaps, num_classes)\n",
    "    def forward(self, x):\n",
    "        x = self.embedding(x).unsqueeze(1)\n",
    "        x = [F.relu(conv(x)).squeeze(3) for conv in self.conv_layers]\n",
    "        x = [F.max_pool1d(c, c.size(2)).squeeze(2) for c in x]\n",
    "        x = torch.cat(x, 1)\n",
    "        x = self.dropout(x)\n",
    "        x = self.fc(x)\n",
    "        x = F.log_softmax(x, dim=-1)\n",
    "        return x\n",
    "\n",
    "class ClsDataset(Dataset):\n",
    "    def __init__(self, word_map, data, split=\"train\"):\n",
    "        if split == \"train\":\n",
    "            data = data[data[\"split\"] == 1]\n",
    "        else:\n",
    "            data = data[data[\"split\"] == 3]\n",
    "        data = data.reset_index(drop=True)\n",
    "        self.sentence = data[\"sentence_tokens\"]\n",
    "        self.label = data[\"label\"]\n",
    "        self.word_map = word_map\n",
    "    \n",
    "    def __getitem__(self, indx):\n",
    "        sent = self.sentence[indx]\n",
    "        label = self.label[indx]\n",
    "        sent = [self.word_map.get(w, self.word_map[\"<unk>\"]) for w in sent]\n",
    "        return torch.LongTensor(sent), label\n",
    "    \n",
    "    def __len__(self):\n",
    "        return len(self.sentence)\n",
    "\n",
    "def pad_collate(batch):\n",
    "    sent, label = zip(*batch)\n",
    "    sent_pad = pad_sequence(sent, batch_first=True, padding_value=0)\n",
    "    return sent_pad, torch.LongTensor(label)    \n",
    "\n",
    "device = torch.device(\"cuda\")\n",
    "# cls_model = LSTMCls(len(word_map), embeddings.shape[1], embeddings, 256, 2).to(device)\n",
    "cls_model = CNNCls(len(word_map), embeddings.shape[1], embeddings, 100, [3,4,5], 0.5, 2).to(device)\n",
    "train_dset = ClsDataset(word_map, data)\n",
    "test_dset = ClsDataset(word_map, data, split=\"test\")\n",
    "\n",
    "train_loader = DataLoader(train_dset, batch_size=32, num_workers=4, shuffle=True, collate_fn=pad_collate)\n",
    "test_loader = DataLoader(test_dset, batch_size=32, num_workers=4, shuffle=False, collate_fn=pad_collate)    "
   ]
  },
  {
   "cell_type": "code",
   "execution_count": 17,
   "metadata": {
    "scrolled": true
   },
   "outputs": [
    {
     "name": "stdout",
     "output_type": "stream",
     "text": [
      "---------------\n",
      "Epoch: 0\n",
      "Progress: [#####---------------] 25.73% train loss: 0.5842, acc: 0.6944"
     ]
    },
    {
     "ename": "KeyboardInterrupt",
     "evalue": "",
     "output_type": "error",
     "traceback": [
      "\u001b[0;31m---------------------------------------------------------------------------\u001b[0m",
      "\u001b[0;31mKeyboardInterrupt\u001b[0m                         Traceback (most recent call last)",
      "\u001b[0;32m<ipython-input-17-b35ecc5e901f>\u001b[0m in \u001b[0;36m<module>\u001b[0;34m\u001b[0m\n\u001b[1;32m     28\u001b[0m \u001b[0;34m\u001b[0m\u001b[0m\n\u001b[1;32m     29\u001b[0m         \u001b[0;31m# log metrics\u001b[0m\u001b[0;34m\u001b[0m\u001b[0;34m\u001b[0m\u001b[0;34m\u001b[0m\u001b[0m\n\u001b[0;32m---> 30\u001b[0;31m         \u001b[0mloss_cntr\u001b[0m\u001b[0;34m.\u001b[0m\u001b[0mappend\u001b[0m\u001b[0;34m(\u001b[0m\u001b[0mloss\u001b[0m\u001b[0;34m.\u001b[0m\u001b[0mitem\u001b[0m\u001b[0;34m(\u001b[0m\u001b[0;34m)\u001b[0m\u001b[0;34m)\u001b[0m\u001b[0;34m\u001b[0m\u001b[0;34m\u001b[0m\u001b[0m\n\u001b[0m\u001b[1;32m     31\u001b[0m         \u001b[0mpred_choice\u001b[0m \u001b[0;34m=\u001b[0m \u001b[0mout\u001b[0m\u001b[0;34m.\u001b[0m\u001b[0mmax\u001b[0m\u001b[0;34m(\u001b[0m\u001b[0;36m1\u001b[0m\u001b[0;34m)\u001b[0m\u001b[0;34m[\u001b[0m\u001b[0;36m1\u001b[0m\u001b[0;34m]\u001b[0m\u001b[0;34m\u001b[0m\u001b[0;34m\u001b[0m\u001b[0m\n\u001b[1;32m     32\u001b[0m         \u001b[0mcorrect\u001b[0m \u001b[0;34m=\u001b[0m \u001b[0mpred_choice\u001b[0m\u001b[0;34m.\u001b[0m\u001b[0meq\u001b[0m\u001b[0;34m(\u001b[0m\u001b[0mcls\u001b[0m\u001b[0;34m.\u001b[0m\u001b[0mlong\u001b[0m\u001b[0;34m(\u001b[0m\u001b[0;34m)\u001b[0m\u001b[0;34m.\u001b[0m\u001b[0mdata\u001b[0m\u001b[0;34m)\u001b[0m\u001b[0;34m.\u001b[0m\u001b[0mcpu\u001b[0m\u001b[0;34m(\u001b[0m\u001b[0;34m)\u001b[0m\u001b[0;34m.\u001b[0m\u001b[0msum\u001b[0m\u001b[0;34m(\u001b[0m\u001b[0;34m)\u001b[0m\u001b[0;34m\u001b[0m\u001b[0;34m\u001b[0m\u001b[0m\n",
      "\u001b[0;31mKeyboardInterrupt\u001b[0m: "
     ]
    }
   ],
   "source": [
    "import torch.nn.functional as F\n",
    "import torch\n",
    "\n",
    "optim = torch.optim.Adam(cls_model.parameters(), lr=1e-3)\n",
    "\n",
    "# non tqdm progress bar UwU\n",
    "def progress_bar(progress = 0, status = \"\", bar_len = 20):\n",
    "    status = status.ljust(30)\n",
    "    block = int(round(bar_len*progress))\n",
    "    text = \"\\rProgress: [{}] {}% {}\".format( \"#\"*block + \"-\"*(bar_len-block), round(progress*100,2), status)\n",
    "    print(text, end=\"\")\n",
    "    if progress == 1:\n",
    "        print()\n",
    "\n",
    "for epoch in range(5):\n",
    "    print(\"---------------\")\n",
    "    print(f\"Epoch: {epoch}\")\n",
    "    cls_model.train()\n",
    "    loss_cntr, acc_cntr = [], []\n",
    "    for indx, (sent, cls) in enumerate(train_loader):\n",
    "        sent, cls = sent.to(device), cls.to(device)\n",
    "        out = cls_model(sent)\n",
    "        loss = F.nll_loss(out, cls)\n",
    "\n",
    "        optim.zero_grad()\n",
    "        loss.backward()\n",
    "        optim.step()\n",
    "\n",
    "        # log metrics\n",
    "        loss_cntr.append(loss.item())\n",
    "        pred_choice = out.max(1)[1]\n",
    "        correct = pred_choice.eq(cls.long().data).cpu().sum()\n",
    "        acc_cntr.append(correct.item()/sent.shape[0])\n",
    "\n",
    "        progress_bar(indx/len(train_loader), status=f\"train loss: {round(np.mean(loss_cntr), 4)}, acc: {round(np.mean(acc_cntr), 4)}\")\n",
    "    progress_bar(1, status=f\"train loss: {round(np.mean(loss_cntr), 4)}, acc: {round(np.mean(acc_cntr), 4)}\")\n",
    "    \n",
    "    cls_model.eval()\n",
    "    acc_cntr = []\n",
    "    for indx, (sent, cls) in enumerate(test_loader):\n",
    "        sent, cls = sent.to(device), cls.to(device)\n",
    "        with torch.no_grad():\n",
    "            out = cls_model(sent)\n",
    "        pred_choice = out.max(1)[1]\n",
    "        correct = pred_choice.eq(cls.long().data).cpu().sum()\n",
    "        acc_cntr.append(correct.item()/sent.shape[0])\n",
    "\n",
    "        progress_bar(indx/len(test_loader), status=f\"test acc: {round(np.mean(acc_cntr), 4)}\")\n",
    "    progress_bar(1, status=f\"test acc: {round(np.mean(acc_cntr), 4)}\")\n",
    "    \n",
    "    "
   ]
  },
  {
   "cell_type": "code",
   "execution_count": null,
   "metadata": {},
   "outputs": [],
   "source": []
  }
 ],
 "metadata": {
  "kernelspec": {
   "display_name": "Python 3",
   "language": "python",
   "name": "python3"
  },
  "language_info": {
   "codemirror_mode": {
    "name": "ipython",
    "version": 3
   },
   "file_extension": ".py",
   "mimetype": "text/x-python",
   "name": "python",
   "nbconvert_exporter": "python",
   "pygments_lexer": "ipython3",
   "version": "3.8.5"
  }
 },
 "nbformat": 4,
 "nbformat_minor": 4
}
